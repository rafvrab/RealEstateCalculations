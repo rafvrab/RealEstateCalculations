{
 "cells": [
  {
   "cell_type": "markdown",
   "id": "abf74855-2623-4a93-9b5b-d79ab94d53c5",
   "metadata": {},
   "source": [
    "# Property Investment Decision Calculator"
   ]
  },
  {
   "cell_type": "markdown",
   "id": "d70fff41-52d0-4d45-8912-4ec1b056f1f4",
   "metadata": {},
   "source": [
    "María, a resident of a quaint town near La Plata, in the Buenos Aires province of Argentina, recently inherited a family house from her parents. However, the house, steeped in memories, stands worn and neglected, presenting a dilemma for María. Selling the property in its current state promises little return. Yet, she wonders if there's a possibility to unlock its true potential and fetch a better price. This inquiry prompts a meticulous investigation into the viability of renovating the property. "
   ]
  },
  {
   "cell_type": "markdown",
   "id": "8155da46-13c5-4c4f-aa4b-38745271eefd",
   "metadata": {},
   "source": [
    "The endeavor involves assessing various factors: from the expenses associated with legal procedures and paperwork to the required repairs and potential enhancements that could elevate the property's value. The central question becomes whether investing in renovations could translate into a substantial increase in the property's worth and result in a profitable sale. To navigate this complex decision-making process, we embark on a journey to analyze market values, considering the limitations of the local real estate market. With the overarching aim of maximizing María's gain, our mission is to guide her towards realizing the optimal strategy for selling her inherited property and securing the best possible return on her investment."
   ]
  },
  {
   "cell_type": "markdown",
   "id": "f607f683-1bc2-4e9c-8542-22762c1247a8",
   "metadata": {},
   "source": [
    "The steps in the research process to help María maximize her gain are:"
   ]
  },
  {
   "cell_type": "markdown",
   "id": "6f54a45c-dbbd-43f5-9671-2f8ddf450698",
   "metadata": {},
   "source": [
    "<ul><li> <b>Assess expenses:</b> Evaluate legal fees, paperwork costs, and any other expenses associated with the property transaction.</li>\n",
    "<li> <b>Identify necessary repairs:</b> Conduct a thorough inspection to determine the repairs needed to improve the property's condition.</li>\n",
    "<li> <b>Calculate potential increase in property value:</b> Estimate the expected increase in property value resulting from the renovations and improvements.</li>\n",
    "<li> <b>Research market value:</b> Analyze the local real estate market to determine the maximum potential selling price for the property.</li>\n",
    "<li> <b>Compare costs and potential gains:</b> Calculate the total investment required for renovations and compare it to the expected increase in property value to assess potential profitability.</li>\n",
    "<li> <b>Develop a renovation plan:</b> Create a detailed plan outlining the necessary repairs and improvements to maximize the property's value.</li>\n",
    "<li> <b>Implement renovations:</b> Execute the renovation plan, ensuring quality workmanship and adherence to budget constraints.</li>\n",
    "<li> <b>Monitor market trends:</b> Stay informed about changes in the local real estate market to determine the optimal timing for selling the property.</li>\n",
    "<li> <b>List the property:</b> Work with a real estate agent to list the property for sale at an appropriate price to attract potential buyers.</li>\n",
    "<li> <b>Negotiate and finalize sale:</b> Negotiate with potential buyers to secure the best possible sale price and finalize the property transaction.</li></ul>"
   ]
  },
  {
   "cell_type": "markdown",
   "id": "893a70e7-05ad-47ee-89e0-75303010a930",
   "metadata": {},
   "source": [
    "This Python script serves as a property investment decision calculator, assisting users in evaluating the potential profit or loss from selling a property after improvements. The script prompts the user to input various factors including the initial property value, costs of improvements, legal procedures, real estate agent fees, valuation costs, and expected increases in property value due to improvements. It then calculates the potential profit or loss based on the provided inputs, helping users make informed decisions about property investments."
   ]
  },
  {
   "cell_type": "markdown",
   "id": "8b4aa618-9d85-4394-b20c-b91ebe50b5af",
   "metadata": {},
   "source": [
    "### Formula Used for Calculation:"
   ]
  },
  {
   "cell_type": "markdown",
   "id": "241605ee-12d4-481f-8082-85c2b28a19a3",
   "metadata": {},
   "source": [
    "The formula used in this calculation is as follows:\n",
    "\n",
    "Profit=(Vinitial+ΔVinitial)+ΔVimprovements−(Cimprovements+Clegal+Cagent+Cvaluation)\n",
    "\n",
    "Where:\n",
    "\n",
    "    VinitialVinitial​ represents the initial property value.\n",
    "    ΔVinitialΔVinitial​ represents the difference before improvements.\n",
    "    ΔVimprovementsΔVimprovements​ represents the expected increase in property value due to improvements.\n",
    "    CimprovementsCimprovements​ represents the cost of improvements.\n",
    "    ClegalClegal​ represents the cost of legal procedures.\n",
    "    CagentCagent​ represents the real estate agent fees.\n",
    "    CvaluationCvaluation​ represents the valuation cost.\n",
    "\n",
    "This formula helps determine the potential profit or loss from selling the property after improvements by considering the initial property value, costs, and expected increase in value due to improvements."
   ]
  },
  {
   "cell_type": "code",
   "execution_count": 1,
   "id": "d4bd3b47-ed8e-4cc3-b018-27c75cdb500d",
   "metadata": {},
   "outputs": [
    {
     "name": "stdin",
     "output_type": "stream",
     "text": [
      "Enter the initial property value:  12500\n",
      "Enter the difference before improvements (delta_V_initial):  0\n",
      "Enter the expected increase in property value due to improvements (delta_V_improvements):  15000\n",
      "Enter the cost of improvements:  10000\n",
      "Enter the cost of legal procedures:  350\n",
      "Enter the real estate agent fees:  250\n",
      "Enter the valuation cost:  15000\n"
     ]
    },
    {
     "name": "stdout",
     "output_type": "stream",
     "text": [
      "\n",
      "Potential Profit/Loss: 1900.00\n"
     ]
    }
   ],
   "source": [
    "def calculate_profit(V_initial, delta_V_initial, delta_V_improvements, C_improvements, C_legal, C_agent, C_valuation):\n",
    "    # Calculate total property value after improvements\n",
    "    V_final = (V_initial + delta_V_initial) + delta_V_improvements\n",
    "    \n",
    "    # Calculate total costs\n",
    "    total_costs = C_improvements + C_legal + C_agent + C_valuation\n",
    "    \n",
    "    # Calculate profit\n",
    "    profit = V_final - total_costs\n",
    "    \n",
    "    return profit\n",
    "\n",
    "def main():\n",
    "    # Prompt the user to input each element of the formula\n",
    "    V_initial = float(input(\"Enter the initial property value: \"))\n",
    "    delta_V_initial = float(input(\"Enter the difference before improvements (delta_V_initial): \"))\n",
    "    delta_V_improvements = float(input(\"Enter the expected increase in property value due to improvements (delta_V_improvements): \"))\n",
    "    C_improvements = float(input(\"Enter the cost of improvements: \"))\n",
    "    C_legal = float(input(\"Enter the cost of legal procedures: \"))\n",
    "    C_agent = float(input(\"Enter the real estate agent fees: \"))\n",
    "    C_valuation = float(input(\"Enter the valuation cost: \"))\n",
    "    \n",
    "    # Calculate profit or loss\n",
    "    profit = calculate_profit(V_initial, delta_V_initial, delta_V_improvements, C_improvements, C_legal, C_agent, C_valuation)\n",
    "    \n",
    "    # Print the result\n",
    "    print(f\"\\nPotential Profit/Loss: {profit:.2f}\")\n",
    "\n",
    "if __name__ == \"__main__\":\n",
    "    main()\n"
   ]
  },
  {
   "cell_type": "code",
   "execution_count": null,
   "id": "d59098aa-76e0-49b0-a4ac-759628f8d947",
   "metadata": {},
   "outputs": [],
   "source": []
  }
 ],
 "metadata": {
  "kernelspec": {
   "display_name": "Python 3 (ipykernel)",
   "language": "python",
   "name": "python3"
  },
  "language_info": {
   "codemirror_mode": {
    "name": "ipython",
    "version": 3
   },
   "file_extension": ".py",
   "mimetype": "text/x-python",
   "name": "python",
   "nbconvert_exporter": "python",
   "pygments_lexer": "ipython3",
   "version": "3.10.13"
  }
 },
 "nbformat": 4,
 "nbformat_minor": 5
}
